{
 "cells": [
  {
   "cell_type": "code",
   "execution_count": 1,
   "id": "cfce0d5d",
   "metadata": {},
   "outputs": [],
   "source": [
    "import json\n",
    "import os\n",
    "import re\n",
    "import xml.dom.minidom\n",
    "from xml.dom.minidom import parse, parseString\n",
    "from bs4 import BeautifulSoup\n",
    "import pandas as pd"
   ]
  },
  {
   "cell_type": "code",
   "execution_count": 2,
   "id": "715b6714",
   "metadata": {},
   "outputs": [],
   "source": [
    "replace_elements = [\"</TEXT>\",\"<TEXT>\",\"[\",\"]\",\"•\",\"\\n\"]"
   ]
  },
  {
   "cell_type": "code",
   "execution_count": 3,
   "id": "3bdd5e2f",
   "metadata": {},
   "outputs": [],
   "source": [
    "txt_path = \"PathologyDataset/pathology-report-information-extraction/Data/Pathologytxt/\"\n",
    "xml_path = \"PathologyDataset/pathology-report-information-extraction/Data/Finalxml/\""
   ]
  },
  {
   "cell_type": "code",
   "execution_count": 4,
   "id": "0ca2bb66",
   "metadata": {},
   "outputs": [],
   "source": [
    "all_tags = []\n",
    "txt_list = os.listdir(txt_path)\n",
    "xml_list = os.listdir(xml_path)\n",
    "for ix, xml_file in enumerate(xml_list):\n",
    "    with open(xml_path+xml_file, \"r\", encoding=\"utf8\") as f:\n",
    "        xml_data = f.read() #.replace('<?xml version=\"1.0\" encoding=\"UTF-8\" ?>\\n\\n', '')\n",
    "        all_tags.extend([tag.split()[0].replace(\"<\",\"\")for tag in re.findall(\"<\\w+\\sid\",xml_data)])\n",
    "all_tags=list(set(all_tags))"
   ]
  },
  {
   "cell_type": "code",
   "execution_count": 5,
   "id": "58b61030",
   "metadata": {},
   "outputs": [
    {
     "data": {
      "text/plain": [
       "['Fuhrman_Nuclear_Grade',\n",
       " 'Pateint_ID',\n",
       " 'Lymph_Nodes',\n",
       " 'Tnm_Histologic_Grade',\n",
       " 'Lymph_Nodes_Invasion',\n",
       " 'Histologic_Type',\n",
       " 'Lymph_Vascular_Invasion',\n",
       " 'Renal_Vein_Invasion',\n",
       " 'Anatomical_Position',\n",
       " 'Tumor_Diameter',\n",
       " 'AJCC_Classification']"
      ]
     },
     "execution_count": 5,
     "metadata": {},
     "output_type": "execute_result"
    }
   ],
   "source": [
    "all_tags"
   ]
  },
  {
   "cell_type": "code",
   "execution_count": 40,
   "id": "b1a68aca",
   "metadata": {},
   "outputs": [],
   "source": [
    "def replacer(text):\n",
    "    for el in replace_elements:\n",
    "        text = text.replace(el,\" \")\n",
    "    finding = re.findall(\"TCGA[-\\w+]+\", text)\n",
    "    if finding:\n",
    "        text = text.replace(finding[0],\" \")\n",
    "    text = re.sub(\" +\",\" \", text).strip().lower()\n",
    "    return text"
   ]
  },
  {
   "cell_type": "code",
   "execution_count": 41,
   "id": "0c136ffb",
   "metadata": {},
   "outputs": [],
   "source": [
    "all_entities=[\"id\",\"spans\",\"text\",\"type\",\"comment\"]"
   ]
  },
  {
   "cell_type": "code",
   "execution_count": 42,
   "id": "470e8a65",
   "metadata": {
    "scrolled": true
   },
   "outputs": [
    {
     "data": {
      "text/plain": [
       "{'Renal_Vein_Invasion_id': [],\n",
       " 'Renal_Vein_Invasion_spans': [],\n",
       " 'Renal_Vein_Invasion_text': [],\n",
       " 'Renal_Vein_Invasion_type': [],\n",
       " 'Renal_Vein_Invasion_comment': [],\n",
       " 'Lymph_Nodes_Invasion_id': [],\n",
       " 'Lymph_Nodes_Invasion_spans': [],\n",
       " 'Lymph_Nodes_Invasion_text': [],\n",
       " 'Lymph_Nodes_Invasion_type': [],\n",
       " 'Lymph_Nodes_Invasion_comment': [],\n",
       " 'Tumor_Diameter_id': [],\n",
       " 'Tumor_Diameter_spans': [],\n",
       " 'Tumor_Diameter_text': [],\n",
       " 'Tumor_Diameter_type': [],\n",
       " 'Tumor_Diameter_comment': [],\n",
       " 'Fuhrman_Nuclear_Grade_id': [],\n",
       " 'Fuhrman_Nuclear_Grade_spans': [],\n",
       " 'Fuhrman_Nuclear_Grade_text': [],\n",
       " 'Fuhrman_Nuclear_Grade_type': [],\n",
       " 'Fuhrman_Nuclear_Grade_comment': [],\n",
       " 'Lymph_Vascular_Invasion_id': [],\n",
       " 'Lymph_Vascular_Invasion_spans': [],\n",
       " 'Lymph_Vascular_Invasion_text': [],\n",
       " 'Lymph_Vascular_Invasion_type': [],\n",
       " 'Lymph_Vascular_Invasion_comment': [],\n",
       " 'Pateint_ID_id': [],\n",
       " 'Pateint_ID_spans': [],\n",
       " 'Pateint_ID_text': [],\n",
       " 'Pateint_ID_type': [],\n",
       " 'Pateint_ID_comment': [],\n",
       " 'AJCC_Classification_id': [],\n",
       " 'AJCC_Classification_spans': [],\n",
       " 'AJCC_Classification_text': [],\n",
       " 'AJCC_Classification_type': [],\n",
       " 'AJCC_Classification_comment': [],\n",
       " 'Anatomical_Position_id': [],\n",
       " 'Anatomical_Position_spans': [],\n",
       " 'Anatomical_Position_text': [],\n",
       " 'Anatomical_Position_type': [],\n",
       " 'Anatomical_Position_comment': [],\n",
       " 'Tnm_Histologic_Grade_id': [],\n",
       " 'Tnm_Histologic_Grade_spans': [],\n",
       " 'Tnm_Histologic_Grade_text': [],\n",
       " 'Tnm_Histologic_Grade_type': [],\n",
       " 'Tnm_Histologic_Grade_comment': [],\n",
       " 'Histologic_Type_id': [],\n",
       " 'Histologic_Type_spans': [],\n",
       " 'Histologic_Type_text': [],\n",
       " 'Histologic_Type_type': [],\n",
       " 'Histologic_Type_comment': [],\n",
       " 'Lymph_Nodes_id': [],\n",
       " 'Lymph_Nodes_spans': [],\n",
       " 'Lymph_Nodes_text': [],\n",
       " 'Lymph_Nodes_type': [],\n",
       " 'Lymph_Nodes_comment': [],\n",
       " 'TEXT': []}"
      ]
     },
     "execution_count": 42,
     "metadata": {},
     "output_type": "execute_result"
    }
   ],
   "source": [
    "import itertools\n",
    "struct_data = {\"_\".join(el):[] for el in itertools.product(*[all_tags,all_entities])}\n",
    "all_tags.append(\"TEXT\")\n",
    "struct_data[\"TEXT\"]=[]\n",
    "struct_data"
   ]
  },
  {
   "cell_type": "code",
   "execution_count": 47,
   "id": "238a848f",
   "metadata": {},
   "outputs": [],
   "source": [
    "def fill_data(xml_data):\n",
    "    bs_data = BeautifulSoup(xml_data, 'xml') \n",
    "    for tag in all_tags:\n",
    "        tag_string = bs_data.find_all(tag)\n",
    "        if tag != \"TEXT\":\n",
    "            for entity in all_entities:                \n",
    "                if not tag_string:\n",
    "                    struct_data[tag+\"_\"+entity].append([None])\n",
    "                else:\n",
    "                    entity_string = [tag_str.get(entity) for tag_str in tag_string]\n",
    "                    struct_data[tag+\"_\"+entity].append(entity_string)\n",
    "        else:\n",
    "            struct_data[tag].append(str(tag_string))"
   ]
  },
  {
   "cell_type": "code",
   "execution_count": 48,
   "id": "1aa940ce",
   "metadata": {},
   "outputs": [],
   "source": [
    "for ix, xml_file in enumerate(xml_list):\n",
    "    with open(xml_path+xml_file, \"r\", encoding=\"utf8\") as f:\n",
    "        xml_data = f.read() #.replace('<?xml version=\"1.0\" encoding=\"UTF-8\" ?>\\n\\n', '')\n",
    "        fill_data(xml_data)"
   ]
  },
  {
   "cell_type": "code",
   "execution_count": 49,
   "id": "a32273cb",
   "metadata": {},
   "outputs": [],
   "source": [
    "df = pd.DataFrame(struct_data)"
   ]
  },
  {
   "cell_type": "code",
   "execution_count": 50,
   "id": "4a133502",
   "metadata": {},
   "outputs": [],
   "source": [
    "df[\"TEXT\"] = df[\"TEXT\"].apply(replacer)"
   ]
  },
  {
   "cell_type": "code",
   "execution_count": 51,
   "id": "044c21a4",
   "metadata": {},
   "outputs": [],
   "source": [
    "col_ordered = [\n",
    "    'Pateint_ID_text',\n",
    "    'Pateint_ID_id',\n",
    "    'Pateint_ID_spans',\n",
    "    'Pateint_ID_type',\n",
    "    'Pateint_ID_comment',\n",
    "    'TEXT',\n",
    "    'AJCC_Classification_id',\n",
    "    'AJCC_Classification_spans',\n",
    "    'AJCC_Classification_text',\n",
    "    'AJCC_Classification_type',\n",
    "    'AJCC_Classification_comment',\n",
    "    'Anatomical_Position_id',\n",
    "    'Anatomical_Position_spans',\n",
    "    'Anatomical_Position_text',\n",
    "    'Anatomical_Position_type',\n",
    "    'Anatomical_Position_comment',\n",
    "    'Histologic_Type_id',\n",
    "    'Histologic_Type_spans',\n",
    "    'Histologic_Type_text',\n",
    "    'Histologic_Type_type',\n",
    "    'Histologic_Type_comment',\n",
    "    'Lymph_Nodes_Invasion_id',\n",
    "    'Lymph_Nodes_Invasion_spans',\n",
    "    'Lymph_Nodes_Invasion_text',\n",
    "    'Lymph_Nodes_Invasion_type',\n",
    "    'Lymph_Nodes_Invasion_comment',\n",
    "    'Lymph_Vascular_Invasion_id',\n",
    "    'Lymph_Vascular_Invasion_spans',\n",
    "    'Lymph_Vascular_Invasion_text',\n",
    "    'Lymph_Vascular_Invasion_type',\n",
    "    'Lymph_Vascular_Invasion_comment',\n",
    "    'Lymph_Nodes_id',\n",
    "    'Lymph_Nodes_spans',\n",
    "    'Lymph_Nodes_text',\n",
    "    'Lymph_Nodes_type',\n",
    "    'Lymph_Nodes_comment',\n",
    "    'Fuhrman_Nuclear_Grade_id',\n",
    "    'Fuhrman_Nuclear_Grade_spans',\n",
    "    'Fuhrman_Nuclear_Grade_text',\n",
    "    'Fuhrman_Nuclear_Grade_type',\n",
    "    'Fuhrman_Nuclear_Grade_comment',\n",
    "    'Renal_Vein_Invasion_id',\n",
    "    'Renal_Vein_Invasion_spans',\n",
    "    'Renal_Vein_Invasion_text',\n",
    "    'Renal_Vein_Invasion_type',\n",
    "    'Renal_Vein_Invasion_comment',\n",
    "    'Tnm_Histologic_Grade_id',\n",
    "    'Tnm_Histologic_Grade_spans',\n",
    "    'Tnm_Histologic_Grade_text',\n",
    "    'Tnm_Histologic_Grade_type',\n",
    "    'Tnm_Histologic_Grade_comment',\n",
    "    'Tumor_Diameter_id',\n",
    "    'Tumor_Diameter_spans',\n",
    "    'Tumor_Diameter_text',\n",
    "    'Tumor_Diameter_type',\n",
    "    'Tumor_Diameter_comment',\n",
    "]"
   ]
  },
  {
   "cell_type": "code",
   "execution_count": 53,
   "id": "affb1202",
   "metadata": {},
   "outputs": [],
   "source": [
    "df =df[col_ordered]"
   ]
  },
  {
   "cell_type": "code",
   "execution_count": 55,
   "id": "258101ca",
   "metadata": {},
   "outputs": [],
   "source": [
    "df.to_excel(\"PathologyDataset/structured_sampledataset.xlsx\", index=False)"
   ]
  },
  {
   "cell_type": "code",
   "execution_count": null,
   "id": "8ed72fcc",
   "metadata": {},
   "outputs": [],
   "source": []
  },
  {
   "cell_type": "code",
   "execution_count": null,
   "id": "8e6e1686",
   "metadata": {},
   "outputs": [],
   "source": []
  },
  {
   "cell_type": "code",
   "execution_count": null,
   "id": "03dd38aa",
   "metadata": {},
   "outputs": [],
   "source": []
  },
  {
   "cell_type": "code",
   "execution_count": null,
   "id": "6d1cabcd",
   "metadata": {},
   "outputs": [],
   "source": []
  },
  {
   "cell_type": "code",
   "execution_count": null,
   "id": "706d3d13",
   "metadata": {},
   "outputs": [],
   "source": []
  },
  {
   "cell_type": "code",
   "execution_count": null,
   "id": "f5b7c769",
   "metadata": {},
   "outputs": [],
   "source": []
  }
 ],
 "metadata": {
  "kernelspec": {
   "display_name": "Python 3 (ipykernel)",
   "language": "python",
   "name": "python3"
  },
  "language_info": {
   "codemirror_mode": {
    "name": "ipython",
    "version": 3
   },
   "file_extension": ".py",
   "mimetype": "text/x-python",
   "name": "python",
   "nbconvert_exporter": "python",
   "pygments_lexer": "ipython3",
   "version": "3.9.12"
  }
 },
 "nbformat": 4,
 "nbformat_minor": 5
}
