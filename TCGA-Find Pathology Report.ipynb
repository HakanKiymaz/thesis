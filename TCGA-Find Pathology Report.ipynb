{
 "cells": [
  {
   "cell_type": "markdown",
   "id": "711f1f16",
   "metadata": {},
   "source": [
    "<b>Read Supplementary Table<b>"
   ]
  },
  {
   "cell_type": "code",
   "execution_count": 35,
   "id": "48c00b19",
   "metadata": {},
   "outputs": [],
   "source": [
    "import pandas as pd"
   ]
  },
  {
   "cell_type": "code",
   "execution_count": 40,
   "id": "15e2d2f4",
   "metadata": {},
   "outputs": [],
   "source": [
    "supp_df = pd.read_excel(\"TCGA-CDR-SupplementalTableS1.xlsx\", sheet_name=\"TCGA-CDR\").drop(\"Unnamed: 0\", axis=1)"
   ]
  },
  {
   "cell_type": "code",
   "execution_count": 51,
   "id": "1c297769",
   "metadata": {},
   "outputs": [],
   "source": [
    "supp_df = supp_df[supp_df[\"type\"]==\"BRCA\"]"
   ]
  },
  {
   "cell_type": "code",
   "execution_count": 52,
   "id": "de2eb697",
   "metadata": {},
   "outputs": [],
   "source": [
    "barcode_list = supp_df[\"bcr_patient_barcode\"].values.tolist()"
   ]
  },
  {
   "cell_type": "markdown",
   "id": "eaea72e7",
   "metadata": {},
   "source": [
    "<b>Manifest File<b>"
   ]
  },
  {
   "cell_type": "code",
   "execution_count": 62,
   "id": "63e9eb55",
   "metadata": {},
   "outputs": [],
   "source": [
    "breast_manifest = pd.read_csv(\"breast-reports-TCGA/gdc_manifest.2023-03-12.txt\", sep=\"\\t\")"
   ]
  },
  {
   "cell_type": "code",
   "execution_count": 63,
   "id": "7ae7a467",
   "metadata": {},
   "outputs": [
    {
     "data": {
      "text/html": [
       "<div>\n",
       "<style scoped>\n",
       "    .dataframe tbody tr th:only-of-type {\n",
       "        vertical-align: middle;\n",
       "    }\n",
       "\n",
       "    .dataframe tbody tr th {\n",
       "        vertical-align: top;\n",
       "    }\n",
       "\n",
       "    .dataframe thead th {\n",
       "        text-align: right;\n",
       "    }\n",
       "</style>\n",
       "<table border=\"1\" class=\"dataframe\">\n",
       "  <thead>\n",
       "    <tr style=\"text-align: right;\">\n",
       "      <th></th>\n",
       "      <th>id</th>\n",
       "      <th>filename</th>\n",
       "      <th>md5</th>\n",
       "      <th>size</th>\n",
       "      <th>state</th>\n",
       "    </tr>\n",
       "  </thead>\n",
       "  <tbody>\n",
       "    <tr>\n",
       "      <th>0</th>\n",
       "      <td>0b76cf1b-4ba9-4462-b49d-5a5c82a64825</td>\n",
       "      <td>TCGA-OL-A5RW.86B06754-B000-4F8B-9037-95E7A0BD4...</td>\n",
       "      <td>6069cd8baf8be1ecb9e198032341a894</td>\n",
       "      <td>718450</td>\n",
       "      <td>live</td>\n",
       "    </tr>\n",
       "    <tr>\n",
       "      <th>1</th>\n",
       "      <td>cfa5e4b7-a00a-4497-9cd9-232a988fc07d</td>\n",
       "      <td>TCGA-BH-A1FJ.8169BE67-03C8-4F4D-9A60-200705B79...</td>\n",
       "      <td>76c533ed0f7e8d8f2521d14d3573e024</td>\n",
       "      <td>76887</td>\n",
       "      <td>live</td>\n",
       "    </tr>\n",
       "    <tr>\n",
       "      <th>2</th>\n",
       "      <td>7e099da8-2ee6-4259-b9fc-8f96d1605cad</td>\n",
       "      <td>TCGA-AR-A0U2.51F69645-9564-4257-A86E-3A574C270...</td>\n",
       "      <td>ad841397f7d8e858aef5ccded816dbf1</td>\n",
       "      <td>53246</td>\n",
       "      <td>live</td>\n",
       "    </tr>\n",
       "    <tr>\n",
       "      <th>3</th>\n",
       "      <td>2b6a7991-cefc-47c3-b464-30af9bad214a</td>\n",
       "      <td>TCGA-A8-A07E.E20AC0FF-43C4-49EA-9E33-764E55393...</td>\n",
       "      <td>f33787fab14e610b5e98a96a811eedfa</td>\n",
       "      <td>69785</td>\n",
       "      <td>live</td>\n",
       "    </tr>\n",
       "    <tr>\n",
       "      <th>4</th>\n",
       "      <td>fdbb4243-a0a0-489c-bc83-aa7107fe0b1b</td>\n",
       "      <td>TCGA-A8-A08X.CA911D90-5DDA-49F1-993F-68FCA77A8...</td>\n",
       "      <td>11ccd72f1ce1c32df583fb05133f5a3f</td>\n",
       "      <td>87312</td>\n",
       "      <td>live</td>\n",
       "    </tr>\n",
       "    <tr>\n",
       "      <th>...</th>\n",
       "      <td>...</td>\n",
       "      <td>...</td>\n",
       "      <td>...</td>\n",
       "      <td>...</td>\n",
       "      <td>...</td>\n",
       "    </tr>\n",
       "    <tr>\n",
       "      <th>1045</th>\n",
       "      <td>604407ef-a3d6-4855-9b03-83442c946549</td>\n",
       "      <td>TCGA-BH-A0BZ.1B56E5A6-35B8-4C60-8BC5-68716C946...</td>\n",
       "      <td>407865ae58dfb7ad28af9aa6ed9666b9</td>\n",
       "      <td>117524</td>\n",
       "      <td>live</td>\n",
       "    </tr>\n",
       "    <tr>\n",
       "      <th>1046</th>\n",
       "      <td>aee9da9b-433f-4394-b278-c9a8487136ee</td>\n",
       "      <td>TCGA-AO-A126.A4BFA94D-166F-43D4-90B5-3C547F402...</td>\n",
       "      <td>dd5c2cf7bf866aaf0d2d0c9a71a03f7f</td>\n",
       "      <td>199186</td>\n",
       "      <td>live</td>\n",
       "    </tr>\n",
       "    <tr>\n",
       "      <th>1047</th>\n",
       "      <td>ead1ed99-0df6-47ea-90a3-b7fe46b10118</td>\n",
       "      <td>TCGA-A2-A1FX.EAFC71A1-D6FC-46EA-BC47-D054C497D...</td>\n",
       "      <td>93070ff2fb7082582e4d916c23c94f95</td>\n",
       "      <td>212932</td>\n",
       "      <td>live</td>\n",
       "    </tr>\n",
       "    <tr>\n",
       "      <th>1048</th>\n",
       "      <td>8f038507-48c7-4e68-a715-8650f8710286</td>\n",
       "      <td>TCGA-EW-A6S9.4FC32F17-7A4D-4FF6-A710-FFFBC610C...</td>\n",
       "      <td>ebcb2a86e5dab36b18c6333f06a075ec</td>\n",
       "      <td>257784</td>\n",
       "      <td>live</td>\n",
       "    </tr>\n",
       "    <tr>\n",
       "      <th>1049</th>\n",
       "      <td>3fd7de04-81e3-4001-840a-af0ceb463adf</td>\n",
       "      <td>TCGA-GM-A2DH.C3243207-2190-4435-9AA9-39E3B913E...</td>\n",
       "      <td>24be1e32505e084eab89089f2ebaf660</td>\n",
       "      <td>152376</td>\n",
       "      <td>live</td>\n",
       "    </tr>\n",
       "  </tbody>\n",
       "</table>\n",
       "<p>1050 rows × 5 columns</p>\n",
       "</div>"
      ],
      "text/plain": [
       "                                        id  \\\n",
       "0     0b76cf1b-4ba9-4462-b49d-5a5c82a64825   \n",
       "1     cfa5e4b7-a00a-4497-9cd9-232a988fc07d   \n",
       "2     7e099da8-2ee6-4259-b9fc-8f96d1605cad   \n",
       "3     2b6a7991-cefc-47c3-b464-30af9bad214a   \n",
       "4     fdbb4243-a0a0-489c-bc83-aa7107fe0b1b   \n",
       "...                                    ...   \n",
       "1045  604407ef-a3d6-4855-9b03-83442c946549   \n",
       "1046  aee9da9b-433f-4394-b278-c9a8487136ee   \n",
       "1047  ead1ed99-0df6-47ea-90a3-b7fe46b10118   \n",
       "1048  8f038507-48c7-4e68-a715-8650f8710286   \n",
       "1049  3fd7de04-81e3-4001-840a-af0ceb463adf   \n",
       "\n",
       "                                               filename  \\\n",
       "0     TCGA-OL-A5RW.86B06754-B000-4F8B-9037-95E7A0BD4...   \n",
       "1     TCGA-BH-A1FJ.8169BE67-03C8-4F4D-9A60-200705B79...   \n",
       "2     TCGA-AR-A0U2.51F69645-9564-4257-A86E-3A574C270...   \n",
       "3     TCGA-A8-A07E.E20AC0FF-43C4-49EA-9E33-764E55393...   \n",
       "4     TCGA-A8-A08X.CA911D90-5DDA-49F1-993F-68FCA77A8...   \n",
       "...                                                 ...   \n",
       "1045  TCGA-BH-A0BZ.1B56E5A6-35B8-4C60-8BC5-68716C946...   \n",
       "1046  TCGA-AO-A126.A4BFA94D-166F-43D4-90B5-3C547F402...   \n",
       "1047  TCGA-A2-A1FX.EAFC71A1-D6FC-46EA-BC47-D054C497D...   \n",
       "1048  TCGA-EW-A6S9.4FC32F17-7A4D-4FF6-A710-FFFBC610C...   \n",
       "1049  TCGA-GM-A2DH.C3243207-2190-4435-9AA9-39E3B913E...   \n",
       "\n",
       "                                   md5    size state  \n",
       "0     6069cd8baf8be1ecb9e198032341a894  718450  live  \n",
       "1     76c533ed0f7e8d8f2521d14d3573e024   76887  live  \n",
       "2     ad841397f7d8e858aef5ccded816dbf1   53246  live  \n",
       "3     f33787fab14e610b5e98a96a811eedfa   69785  live  \n",
       "4     11ccd72f1ce1c32df583fb05133f5a3f   87312  live  \n",
       "...                                ...     ...   ...  \n",
       "1045  407865ae58dfb7ad28af9aa6ed9666b9  117524  live  \n",
       "1046  dd5c2cf7bf866aaf0d2d0c9a71a03f7f  199186  live  \n",
       "1047  93070ff2fb7082582e4d916c23c94f95  212932  live  \n",
       "1048  ebcb2a86e5dab36b18c6333f06a075ec  257784  live  \n",
       "1049  24be1e32505e084eab89089f2ebaf660  152376  live  \n",
       "\n",
       "[1050 rows x 5 columns]"
      ]
     },
     "execution_count": 63,
     "metadata": {},
     "output_type": "execute_result"
    }
   ],
   "source": [
    "breast_manifest"
   ]
  },
  {
   "cell_type": "code",
   "execution_count": 74,
   "id": "0c013d32",
   "metadata": {},
   "outputs": [],
   "source": [
    "def curl_tcga_api(id_):\n",
    "    url = f'https://api.gdc.cancer.gov/data/{id_}'\n",
    "    print(url)\n",
    "    !curl --remote-name --output-dir breast-reports-TCGA --remote-header-name url"
   ]
  },
  {
   "cell_type": "code",
   "execution_count": 75,
   "id": "59b9277c",
   "metadata": {},
   "outputs": [
    {
     "name": "stdout",
     "output_type": "stream",
     "text": [
      "https://api.gdc.cancer.gov/data/0b76cf1b-4ba9-4462-b49d-5a5c82a64825\n",
      "/bin/bash: -c: line 1: syntax error near unexpected token `('\r\n",
      "/bin/bash: -c: line 1: `curl --remote-name --output-dir breast-reports-TCGA --remote-header-name str(url)'\r\n"
     ]
    }
   ],
   "source": [
    "curl_tcga_api(\"0b76cf1b-4ba9-4462-b49d-5a5c82a64825\")"
   ]
  },
  {
   "cell_type": "code",
   "execution_count": 79,
   "id": "126681d1",
   "metadata": {},
   "outputs": [
    {
     "name": "stdout",
     "output_type": "stream",
     "text": [
      "  % Total    % Received % Xferd  Average Speed   Time    Time     Time  Current\n",
      "                                 Dload  Upload   Total   Spent    Left  Speed\n",
      "100  681k    0  681k    0     0   183k      0 --:--:--  0:00:03 --:--:--  183k\n"
     ]
    }
   ],
   "source": [
    "!curl --remote-name --output-dir breast-reports-TCGA --remote-header-name 'https://api.gdc.cancer.gov/data/0b76cf1b-4ba9-4462-b49d-5a5c82a64825,cfa5e4b7-a00a-4497-9cd9-232a988fc07d'"
   ]
  },
  {
   "cell_type": "code",
   "execution_count": null,
   "id": "3783f806",
   "metadata": {},
   "outputs": [],
   "source": []
  },
  {
   "cell_type": "code",
   "execution_count": null,
   "id": "c6f6a0ff",
   "metadata": {},
   "outputs": [],
   "source": []
  },
  {
   "cell_type": "code",
   "execution_count": null,
   "id": "3f8dd0a2",
   "metadata": {},
   "outputs": [],
   "source": []
  },
  {
   "cell_type": "code",
   "execution_count": null,
   "id": "de71b9ee",
   "metadata": {},
   "outputs": [],
   "source": []
  },
  {
   "cell_type": "code",
   "execution_count": null,
   "id": "5ce3effc",
   "metadata": {},
   "outputs": [],
   "source": []
  }
 ],
 "metadata": {
  "kernelspec": {
   "display_name": "Python 3 (ipykernel)",
   "language": "python",
   "name": "python3"
  },
  "language_info": {
   "codemirror_mode": {
    "name": "ipython",
    "version": 3
   },
   "file_extension": ".py",
   "mimetype": "text/x-python",
   "name": "python",
   "nbconvert_exporter": "python",
   "pygments_lexer": "ipython3",
   "version": "3.9.12"
  }
 },
 "nbformat": 4,
 "nbformat_minor": 5
}
