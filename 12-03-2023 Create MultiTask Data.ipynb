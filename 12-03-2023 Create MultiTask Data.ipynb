{
 "cells": [
  {
   "cell_type": "code",
   "execution_count": 124,
   "id": "adf37339",
   "metadata": {},
   "outputs": [],
   "source": [
    "import pandas as pd"
   ]
  },
  {
   "cell_type": "code",
   "execution_count": 125,
   "id": "3d44fa0f",
   "metadata": {},
   "outputs": [],
   "source": [
    "data_from_paper = pd.read_excel(\"./PathologyDataset/structured_sampledataset.xlsx\")"
   ]
  },
  {
   "cell_type": "code",
   "execution_count": 126,
   "id": "e4156622",
   "metadata": {},
   "outputs": [],
   "source": [
    "model_data = data_from_paper[[\"Pateint_ID_text\", \"TEXT\", \"Histologic_Type_type\",\"Tnm_Histologic_Grade_id\", \"Tnm_Histologic_Grade_type\",\"AJCC_Classification_id\"]]"
   ]
  },
  {
   "cell_type": "code",
   "execution_count": 129,
   "id": "4e369e96",
   "metadata": {},
   "outputs": [
    {
     "name": "stdout",
     "output_type": "stream",
     "text": [
      "[\"['Papillary_Renal_Cell_Carcinoma', 'Papillary_Renal_Cell_Carcinoma']\"\n",
      " \"['Papillary_Renal_Cell_Carcinoma']\" \"['Clear_Cell_Renal_Carcinoma']\"\n",
      " \"['Clear_Cell_Renal_Carcinoma', 'Clear_Cell_Renal_Carcinoma']\" '[None]'\n",
      " \"['Papillary_Renal_Cell_Carcinoma', 'Clear_Cell_Renal_Carcinoma']\"\n",
      " \"['Chromophobe']\" \"['other']\"\n",
      " \"['Clear_Cell_Renal_Carcinoma', 'Papillary_Renal_Cell_Carcinoma']\"\n",
      " \"['Chromophobe', 'Chromophobe']\"]\n",
      "10\n",
      "\n",
      "['[None]' \"['Tn0']\" \"['Tn1']\"]\n",
      "3\n",
      "\n",
      "['[None]' \"['G2']\" \"['G1']\" \"['G3']\" \"['G4']\" \"['Not_Identified']\"]\n",
      "6\n",
      "\n",
      "[\"['AJ0']\" '[None]' \"['AJ0', 'AJ1']\" \"['AJ1']\" \"['AJ0', 'AJ2']\"\n",
      " \"['AJ1', 'AJ2']\"]\n",
      "6\n",
      "\n"
     ]
    }
   ],
   "source": [
    "for c in [\"Histologic_Type_type\",\"Tnm_Histologic_Grade_id\", \"Tnm_Histologic_Grade_type\",\"AJCC_Classification_id\"]:\n",
    "    print(model_data[c].unique())\n",
    "    print(model_data[c].nunique())\n",
    "    print()"
   ]
  },
  {
   "cell_type": "code",
   "execution_count": 130,
   "id": "76a22bcc",
   "metadata": {},
   "outputs": [
    {
     "name": "stderr",
     "output_type": "stream",
     "text": [
      "/tmp/ipykernel_87375/2810321158.py:2: SettingWithCopyWarning: \n",
      "A value is trying to be set on a copy of a slice from a DataFrame\n",
      "\n",
      "See the caveats in the documentation: https://pandas.pydata.org/pandas-docs/stable/user_guide/indexing.html#returning-a-view-versus-a-copy\n",
      "  model_data[\"Pateint_ID_text\"][i] = eval(model_data[\"Pateint_ID_text\"][i])[0]\n",
      "/tmp/ipykernel_87375/2810321158.py:4: SettingWithCopyWarning: \n",
      "A value is trying to be set on a copy of a slice from a DataFrame\n",
      "\n",
      "See the caveats in the documentation: https://pandas.pydata.org/pandas-docs/stable/user_guide/indexing.html#returning-a-view-versus-a-copy\n",
      "  model_data[\"Tnm_Histologic_Grade_id\"][i] = eval(model_data[\"Tnm_Histologic_Grade_id\"][i])[0]\n",
      "/tmp/ipykernel_87375/2810321158.py:6: SettingWithCopyWarning: \n",
      "A value is trying to be set on a copy of a slice from a DataFrame\n",
      "\n",
      "See the caveats in the documentation: https://pandas.pydata.org/pandas-docs/stable/user_guide/indexing.html#returning-a-view-versus-a-copy\n",
      "  model_data[\"Tnm_Histologic_Grade_type\"][i] = eval(model_data[\"Tnm_Histologic_Grade_type\"][i])[0]\n",
      "/tmp/ipykernel_87375/2810321158.py:8: SettingWithCopyWarning: \n",
      "A value is trying to be set on a copy of a slice from a DataFrame\n",
      "\n",
      "See the caveats in the documentation: https://pandas.pydata.org/pandas-docs/stable/user_guide/indexing.html#returning-a-view-versus-a-copy\n",
      "  model_data[\"AJCC_Classification_id\"][i] = eval(model_data[\"AJCC_Classification_id\"][i])[0]\n",
      "/tmp/ipykernel_87375/2810321158.py:19: SettingWithCopyWarning: \n",
      "A value is trying to be set on a copy of a slice from a DataFrame\n",
      "\n",
      "See the caveats in the documentation: https://pandas.pydata.org/pandas-docs/stable/user_guide/indexing.html#returning-a-view-versus-a-copy\n",
      "  model_data[\"Histologic_Type_type\"][i]=converted[0]\n"
     ]
    }
   ],
   "source": [
    "for i in range(len(model_data)):\n",
    "    model_data[\"Pateint_ID_text\"][i] = eval(model_data[\"Pateint_ID_text\"][i])[0]\n",
    "    \n",
    "    model_data[\"Tnm_Histologic_Grade_id\"][i] = eval(model_data[\"Tnm_Histologic_Grade_id\"][i])[0]\n",
    "    \n",
    "    model_data[\"Tnm_Histologic_Grade_type\"][i] = eval(model_data[\"Tnm_Histologic_Grade_type\"][i])[0]\n",
    "    \n",
    "    model_data[\"AJCC_Classification_id\"][i] = eval(model_data[\"AJCC_Classification_id\"][i])[0]\n",
    "    \n",
    "    #if len(eval(model_data[\"AJCC_Classification_id\"][i]))>1:\n",
    "    #    print(model_data[\"AJCC_Classification_id\"][i],\"---\",i)\n",
    "    \n",
    "    #if eval(model_data[\"AJCC_Classification_id\"][i])[0]==\"AJ1\":\n",
    "    #    print(model_data[\"AJCC_Classification_id\"][i],\"---\",i)\n",
    "    \n",
    "    \n",
    "    converted = eval(model_data[\"Histologic_Type_type\"][i])\n",
    "    converted = list(set(converted))\n",
    "    model_data[\"Histologic_Type_type\"][i]=converted[0]\n",
    "    \n"
   ]
  },
  {
   "cell_type": "code",
   "execution_count": 136,
   "id": "456a04cc",
   "metadata": {},
   "outputs": [
    {
     "name": "stdout",
     "output_type": "stream",
     "text": [
      "['Papillary_Renal_Cell_Carcinoma' 'Clear_Cell_Renal_Carcinoma' 'None'\n",
      " 'Chromophobe' 'other']\n",
      "5\n",
      "\n",
      "['None' 'Tn0' 'Tn1']\n",
      "3\n",
      "\n",
      "['None' 'G2' 'G1' 'G3' 'G4' 'Not_Identified']\n",
      "6\n",
      "\n",
      "['AJ0' 'None' 'AJ1']\n",
      "3\n",
      "\n"
     ]
    },
    {
     "name": "stderr",
     "output_type": "stream",
     "text": [
      "/tmp/ipykernel_87375/4136390934.py:2: SettingWithCopyWarning: \n",
      "A value is trying to be set on a copy of a slice from a DataFrame\n",
      "\n",
      "See the caveats in the documentation: https://pandas.pydata.org/pandas-docs/stable/user_guide/indexing.html#returning-a-view-versus-a-copy\n",
      "  model_data[c].fillna(\"None\", inplace=True)\n"
     ]
    }
   ],
   "source": [
    "for c in [\"Histologic_Type_type\",\"Tnm_Histologic_Grade_id\", \"Tnm_Histologic_Grade_type\",\"AJCC_Classification_id\"]:\n",
    "    model_data[c].fillna(\"None\", inplace=True)\n",
    "    print(model_data[c].unique())\n",
    "    \n",
    "    print(len(model_data[c].unique()))\n",
    "    print()"
   ]
  },
  {
   "cell_type": "code",
   "execution_count": 137,
   "id": "6373415e",
   "metadata": {},
   "outputs": [],
   "source": [
    "model_data.to_excel(\"12-03-2023_model_data.xlsx\", index=False)"
   ]
  },
  {
   "cell_type": "code",
   "execution_count": null,
   "id": "a00605ab",
   "metadata": {},
   "outputs": [],
   "source": []
  },
  {
   "cell_type": "code",
   "execution_count": null,
   "id": "af9b5630",
   "metadata": {},
   "outputs": [],
   "source": []
  },
  {
   "cell_type": "code",
   "execution_count": null,
   "id": "367ccd38",
   "metadata": {},
   "outputs": [],
   "source": []
  },
  {
   "cell_type": "code",
   "execution_count": null,
   "id": "c4cdd54b",
   "metadata": {},
   "outputs": [],
   "source": []
  },
  {
   "cell_type": "code",
   "execution_count": null,
   "id": "57579571",
   "metadata": {},
   "outputs": [],
   "source": []
  },
  {
   "cell_type": "code",
   "execution_count": null,
   "id": "dd5fedc6",
   "metadata": {},
   "outputs": [],
   "source": []
  },
  {
   "cell_type": "code",
   "execution_count": null,
   "id": "429c7e8a",
   "metadata": {},
   "outputs": [],
   "source": []
  },
  {
   "cell_type": "code",
   "execution_count": null,
   "id": "d37bc9f2",
   "metadata": {},
   "outputs": [],
   "source": []
  },
  {
   "cell_type": "code",
   "execution_count": null,
   "id": "51eee1b0",
   "metadata": {},
   "outputs": [],
   "source": []
  },
  {
   "cell_type": "code",
   "execution_count": null,
   "id": "eacf3184",
   "metadata": {},
   "outputs": [],
   "source": []
  },
  {
   "cell_type": "code",
   "execution_count": null,
   "id": "b8c42541",
   "metadata": {},
   "outputs": [],
   "source": []
  },
  {
   "cell_type": "code",
   "execution_count": null,
   "id": "55fe6ae0",
   "metadata": {},
   "outputs": [],
   "source": []
  },
  {
   "cell_type": "code",
   "execution_count": null,
   "id": "819ffce0",
   "metadata": {},
   "outputs": [],
   "source": []
  },
  {
   "cell_type": "code",
   "execution_count": null,
   "id": "54210ab4",
   "metadata": {},
   "outputs": [],
   "source": []
  },
  {
   "cell_type": "code",
   "execution_count": null,
   "id": "a6342675",
   "metadata": {},
   "outputs": [],
   "source": []
  },
  {
   "cell_type": "code",
   "execution_count": null,
   "id": "9caaa07d",
   "metadata": {},
   "outputs": [],
   "source": []
  },
  {
   "cell_type": "code",
   "execution_count": null,
   "id": "6d1a559c",
   "metadata": {},
   "outputs": [],
   "source": []
  },
  {
   "cell_type": "code",
   "execution_count": null,
   "id": "79690cf8",
   "metadata": {},
   "outputs": [],
   "source": []
  },
  {
   "cell_type": "code",
   "execution_count": null,
   "id": "e074e122",
   "metadata": {},
   "outputs": [],
   "source": []
  }
 ],
 "metadata": {
  "kernelspec": {
   "display_name": "Python 3 (ipykernel)",
   "language": "python",
   "name": "python3"
  },
  "language_info": {
   "codemirror_mode": {
    "name": "ipython",
    "version": 3
   },
   "file_extension": ".py",
   "mimetype": "text/x-python",
   "name": "python",
   "nbconvert_exporter": "python",
   "pygments_lexer": "ipython3",
   "version": "3.9.12"
  }
 },
 "nbformat": 4,
 "nbformat_minor": 5
}
